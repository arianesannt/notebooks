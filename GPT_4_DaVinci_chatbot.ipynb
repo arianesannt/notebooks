{
  "nbformat": 4,
  "nbformat_minor": 0,
  "metadata": {
    "colab": {
      "provenance": []
    },
    "kernelspec": {
      "name": "python3",
      "display_name": "Python 3"
    },
    "language_info": {
      "name": "python"
    }
  },
  "cells": [
    {
      "cell_type": "markdown",
      "source": [
        "#CHATBOT DA VINCI COM GPT4\n",
        "\n",
        "Esse projeto cria um chatbot personalizado com GPT-4 e é resultado da conclusão do curso Fundamentos de Linguagem Python para Análise de Dados e Data Science da Data Science Academy.\n",
        "\n",
        "Aqui vou falar um passo a passo de como criar um chatbot personalizado. O meu eu batizei de Da Vinci.\n",
        "\n",
        "Inicialmente é necessário instalar os pacotes openai e requests, conforme linhas abaixo.\n",
        "\n",
        "Caso você não queria usar um notebook, pode utilizar um editor da sua escolha (por exemplo o Sublime ou VS Code). Entretanto, você deverá abrir o prompt de comando em seu computador e utilizar os comandos abaixo para baixar os pacotes.\n",
        "\n",
        "Curiosidade: o '-q' utilizado no comando abaixo é o 'quiet', ou seja, eu estou pedindo que o computador instale o pacote sem apresentar as informações de estágio da instalação. Caso você queira, você poderá utilizar os comando abaixo sem o '-q'."
      ],
      "metadata": {
        "id": "U1pronaspSMg"
      }
    },
    {
      "cell_type": "code",
      "execution_count": null,
      "metadata": {
        "id": "kG7ShlB-o9gO"
      },
      "outputs": [],
      "source": [
        "pip install -q openai"
      ]
    },
    {
      "cell_type": "code",
      "source": [
        "pip install -q requests"
      ],
      "metadata": {
        "id": "bDQMj9j_pKzr"
      },
      "execution_count": null,
      "outputs": []
    },
    {
      "cell_type": "markdown",
      "source": [
        "O próximo passo é importar o pacote para o projeto e adicionar a chave da API a uma variável.\n",
        "\n",
        "Essa chave é obtida no site do OpenAI (se você não tiver uma conta, precisará criá-la).\n",
        "\n",
        "Nas opções inciais, escolha \"API\". Vá no canto superior esquerdo em \"Personal\" e depois em \"View API keys\".\n",
        "\n",
        "Gere a chave, copie e a salve a chave em um arquivo (bloco de notas, por exemplo), pois você somente conseguirá ver uma vez.\n",
        "\n",
        "Em caso de utilização de editor de texto (por exemplo o Sublime ou VS Code), crie um documento com extensão '.py' e coloque as linhas abaixo. OBS: não use pastas com espaços ou acento, porque isso lhe trará problemas, ok?"
      ],
      "metadata": {
        "id": "rhMGkwNWpuPt"
      }
    },
    {
      "cell_type": "code",
      "source": [
        "import openai\n",
        "\n",
        "openai.api_key = 'insira sua chave aqui para o código funcionar'"
      ],
      "metadata": {
        "id": "XY1e6TnippVQ"
      },
      "execution_count": null,
      "outputs": []
    },
    {
      "cell_type": "markdown",
      "source": [
        "Agora, vamos criar uma função para gerar texto a partir do modelo de linguagem.\n",
        "\n",
        "Mas antes, será necessário criar uma função e dentro dessa função criaremos um objeto que obtém a resposta do modelo de linguagem.\n",
        "\n",
        "Caso você não saiba o que é um objeto, sugiro que procure aprender sobre programação orientada a objeto, pois tudo em Python é objeto!\n",
        "\n",
        "Aqui eu vou utilizar o modelo (engine) 'text-davinci-003', porém outros modelos estão disponíveis no site da OpenAI.\n",
        "\n",
        "Seguindo no preenchimento dos parâmetros, para o prompt eu vou indicar o texto que será um input do usuário.\n",
        "\n",
        "O max_tokens diz respeito ao comprimento da resposta gerada pelo modelo.\n",
        "\n",
        "O parâmetro n diz respeito a quantas conclusões será gerada pelo modelo.\n",
        "\n",
        "No stop eu vou colocar 'None', pois o texto retornado não conterá a sequência de parada.\n",
        "\n",
        "E por fim, temperature diz respeito a medida de aleatoriedade de um texto gerado pelo modelo, sendo valor restrito entre 0 e 1. Quanto mais próximo próximo 1, mais aleatória será a saída dos dados e quanto mais próximo de 0 significa que a saída é muito identificável.\n",
        "\n",
        "É interessante consultar a documentação oficial para você conhecer mais sobre esses parâmetros no site do OpenAI.\n",
        "\n",
        "Obs: lembrar sempre que a indentação faz parte da sintaxe do código Python!\n",
        "\n"
      ],
      "metadata": {
        "id": "sxSQkbPSr5Rs"
      }
    },
    {
      "cell_type": "code",
      "source": [
        "def gerador_de_texto(texto):\n",
        "  resposta = openai.Completion.create(\n",
        "      engine = 'text-davinci-003',\n",
        "      prompt = texto,\n",
        "      max_tokens = 500,\n",
        "      n = 10,\n",
        "      stop = None,\n",
        "      temperature = 0.8\n",
        "  )\n",
        "  return resposta.choices[0].text.strip()"
      ],
      "metadata": {
        "id": "MD7a24I9r5iw"
      },
      "execution_count": null,
      "outputs": []
    },
    {
      "cell_type": "markdown",
      "source": [
        "Agora vou criar uma função para interagir com o usuário. Caso você esteja utilizando um editor de texto, você pode adicionar essa função no mesmo arquivo que você criou inicialmente."
      ],
      "metadata": {
        "id": "qcWikemowdyi"
      }
    },
    {
      "cell_type": "code",
      "source": [
        "def main():\n",
        "\n",
        "  print('\\nBem vindo ao GPT-4 Chatbot Da Vinci!')\n",
        "  print('\\nPara mais informações sobre o GPT-4, acesse o site openai.com')\n",
        "  print(\"\\nDigite 'sair' a qualquer momento para encerrar o chat. Como diz o povo da minha terra: 'se jogue'!\")\n",
        "\n",
        "  while True:\n",
        "    texto_usuario = input(\"\\nDigite o que você deseja saber (caso você queira sair, digite 'sair'): \")\n",
        "\n",
        "    if texto_usuario.lower() == 'sair':\n",
        "      break\n",
        "\n",
        "    gpt4_prompt = f'\\n Usuário: {texto_usuario} \\nChatbot Da Vinci:'\n",
        "\n",
        "    chatbot_resposta = gerador_de_texto(gpt4_prompt)\n",
        "\n",
        "    print(f'\\nChatbot Da Vinci: {chatbot_resposta}')\n",
        "\n",
        "\n"
      ],
      "metadata": {
        "id": "OlMcEdukwBgr"
      },
      "execution_count": null,
      "outputs": []
    },
    {
      "cell_type": "code",
      "source": [
        "# Essa parte do código inicia a execução programa (bloco main).\n",
        "# Caso você esteja utlizando um editor de texto, é o último trecho de código que você vai colocar no aeu arquivo Python.\n",
        "if __name__ == '__main__':\n",
        "  main()"
      ],
      "metadata": {
        "colab": {
          "base_uri": "https://localhost:8080/"
        },
        "id": "GGA_XuWP0uVo",
        "outputId": "5e82c8db-5846-4a11-9eea-5bc4c87f5f16"
      },
      "execution_count": null,
      "outputs": [
        {
          "name": "stdout",
          "output_type": "stream",
          "text": [
            "\n",
            "Bem vindo ao GPT-4 Chatbot Da Vinci!\n",
            "\n",
            "Para mais informações sobre o GPT-4, acesse o site openai.com\n",
            "\n",
            "Digite 'sair' a qualquer momento para encerrar o chat. Como diz o povo da minha terra: 'se jogue'!\n",
            "\n",
            "Digite o que você deseja saber (caso você queira sair, digite 'sair'): Como fazer bolo de cenoura?\n",
            "\n",
            "Chatbot Da Vinci: Oi! Para fazer um bolo de cenoura delicioso, você vai precisar dos seguintes ingredientes: 200g de cenouras raladas, 2 ovos grandes, 100ml de óleo, 200g de açúcar mascavo, 350g de farinha de trigo, 1 colher (sopa) de fermento em pó.\n",
            "\n",
            "Modo de preparo: \n",
            "1. Pré-aqueça o forno a 180°C. \n",
            "2. Bata os ovos com o óleo e o açúcar até obter uma mistura homogênea. \n",
            "3. Adicione as cenouras raladas e misture bem. \n",
            "4. Acrescente a farinha de trigo e o fermento. Misture bem até obter uma massa homogênea. \n",
            "5. Despeje a massa em uma forma untada com óleo ou forrada com papel manteiga. \n",
            "6. Leve ao forno por cerca de 40 minutos, ou até que o bolo esteja dourado. \n",
            "7. Retire do forno e deixe esfriar. \n",
            "8. Sirva e saboreie!\n",
            "\n",
            "Digite o que você deseja saber (caso você queira sair, digite 'sair'): sair\n"
          ]
        }
      ]
    },
    {
      "cell_type": "code",
      "source": [],
      "metadata": {
        "id": "R9v5-2rk4pQE"
      },
      "execution_count": null,
      "outputs": []
    }
  ]
}